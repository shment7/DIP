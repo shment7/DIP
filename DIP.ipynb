{
  "cells": [
    {
      "cell_type": "code",
      "execution_count": null,
      "metadata": {
        "id": "jJZUIbhl0iK6"
      },
      "outputs": [],
      "source": [
        "import torch \n",
        "import torch.nn as nn\n",
        "import torch.optim as optim\n",
        "import torchvision.transforms as transforms\n",
        "import matplotlib.pyplot as plt\n",
        "from skimage import io\n",
        "import numpy as np\n",
        "from skimage.measure import block_reduce"
      ]
    },
    {
      "cell_type": "code",
      "execution_count": null,
      "metadata": {
        "id": "LDa2qMBO0i_o"
      },
      "outputs": [],
      "source": [
        "device = torch.device('cuda:0' if torch.cuda.is_available() else 'cpu')\n",
        "num_iter = 5000\n",
        "learning_rate = 0.01\n",
        "img_path = ''\n",
        "sigma = 1.0 / 10.0 \n",
        "noise_ratio = 0.5 #for denoising\n",
        "scale_factor = 2 #for super resulotion"
      ]
    },
    {
      "cell_type": "code",
      "source": [
        "img = io.imread(img_path) / 255.0\n",
        "h, w, c = img.shape\n",
        "z = (torch.randn(1, c, h, w) * sigma).to(device)\n",
        "to_tensor = transforms.ToTensor()"
      ],
      "metadata": {
        "id": "EgPFJ0lyUEPo"
      },
      "execution_count": null,
      "outputs": []
    },
    {
      "cell_type": "code",
      "source": [
        "#denoising\n",
        "\n",
        "img = to_tensor(img).to(device)\n",
        "mask = np.where(np.random.rand(h, w) > noise_ratio, 1.0, 0.0)\n",
        "mask = to_tensor(mask).to(device)\n",
        "y = (img * mask).reshape((1, c, h, w)).to(device)\n"
      ],
      "metadata": {
        "id": "vDasObrXhplJ"
      },
      "execution_count": null,
      "outputs": []
    },
    {
      "cell_type": "code",
      "source": [
        "#super resulotion\n",
        "'''\n",
        "resize = transforms.Resize((h // scale_factor, w // scale_factor))\n",
        "y = to_tensor(img)\n",
        "y = resize(y)\n",
        "y = y.reshape((1, c, h // scale_factor, w // scale_factor)).to(device)\n",
        "'''"
      ],
      "metadata": {
        "id": "lYozy5NXjgEi"
      },
      "execution_count": null,
      "outputs": []
    },
    {
      "cell_type": "code",
      "source": [
        "plt.imshow(y[0].permute(1, 2, 0).cpu().detach().numpy())\n",
        "plt.show()"
      ],
      "metadata": {
        "id": "HGVOV_aDhpnY"
      },
      "execution_count": null,
      "outputs": []
    },
    {
      "cell_type": "code",
      "execution_count": null,
      "metadata": {
        "id": "o7ks0jGt0jII"
      },
      "outputs": [],
      "source": [
        "class ConvBlock(nn.Module):\n",
        "    def __init__(self, in_ch, out_ch, kernel_size=3):\n",
        "        super().__init__()\n",
        "        self.block = nn.Sequential(\n",
        "            nn.Conv2d(in_ch, out_ch, kernel_size, padding='same'),\n",
        "            nn.ReLU(),\n",
        "            nn.Conv2d(out_ch, out_ch, kernel_size, padding='same'),\n",
        "            nn.BatchNorm2d(out_ch),\n",
        "            nn.ReLU())\n",
        "    \n",
        "    def forward(self, x):\n",
        "        return self.block(x)\n",
        "\n",
        "class UNET(nn.Module):\n",
        "    def __init__(self):\n",
        "        super().__init__()\n",
        "        self.conv1 = ConvBlock(3, 8)\n",
        "        self.conv2 = ConvBlock(8, 16)\n",
        "        self.conv3 = ConvBlock(16, 32)\n",
        "        self.conv4 = ConvBlock(32, 64)\n",
        "        self.conv5 = ConvBlock(64, 128)\n",
        "        self.conv6 = ConvBlock(128, 256)\n",
        "        self.conv7 = ConvBlock(256, 128)\n",
        "        self.conv8 = ConvBlock(128, 64)\n",
        "        self.conv9 = ConvBlock(64, 32)\n",
        "        self.conv10 = ConvBlock(32, 16)\n",
        "        self.conv11 = ConvBlock(16, 8)\n",
        "        self.conv12 = ConvBlock(8, 3, kernel_size=1)\n",
        "        self.pool = nn.MaxPool2d(2)\n",
        "        self.up_conv1 = nn.ConvTranspose2d(256, 128, 2, stride=2)\n",
        "        self.up_conv2 = nn.ConvTranspose2d(128, 64, 2, stride=2)\n",
        "        self.up_conv3 = nn.ConvTranspose2d(64, 32, 2, stride=2)\n",
        "        self.up_conv4 = nn.ConvTranspose2d(32, 16, 2, stride=2)\n",
        "        self.up_conv5 = nn.ConvTranspose2d(16, 8, 2, stride=2)\n",
        "\n",
        "    def forward(self, x):\n",
        "        conv1 = self.conv1(x)\n",
        "        down1 = self.pool(conv1)\n",
        "        conv2 = self.conv2(down1)\n",
        "        down2 = self.pool(conv2)\n",
        "        conv3 = self.conv3(down2)\n",
        "        down3 = self.pool(conv3)\n",
        "        conv4 = self.conv4(down3)\n",
        "        down4 = self.pool(conv4)\n",
        "        conv5 = self.conv5(down4)\n",
        "        down5 = self.pool(conv5)\n",
        "        conv6 = self.conv6(down5)\n",
        "        up1 = torch.cat((self.up_conv1(conv6), conv5), 1)\n",
        "        up2 = torch.cat((self.up_conv2(self.conv7(up1)), conv4), 1)\n",
        "        up3 = torch.cat((self.up_conv3(self.conv8(up2)), conv3), 1)\n",
        "        up4 = torch.cat((self.up_conv4(self.conv9(up3)), conv2), 1)\n",
        "        up5 = torch.cat((self.up_conv5(self.conv10(up4)), conv1), 1)\n",
        "        out = self.conv12(self.conv11(up5))\n",
        "        return out"
      ]
    },
    {
      "cell_type": "code",
      "source": [
        "model = UNET().to(device)\n",
        "criterion = nn.MSELoss()\n",
        "optimizer = optim.Adam(model.parameters(), lr=learning_rate)"
      ],
      "metadata": {
        "id": "rSJMq0eKTrBA"
      },
      "execution_count": null,
      "outputs": []
    },
    {
      "cell_type": "code",
      "execution_count": null,
      "metadata": {
        "id": "_4q9o9-gHbF5"
      },
      "outputs": [],
      "source": [
        "model.train()\n",
        "for i in range(num_iter):\n",
        "    x = model(z)\n",
        "    out = x * mask #for denoising\n",
        "    #out = resize(x) #for super resulotion\n",
        "    loss = criterion(out.float(), y.float())\n",
        "    optimizer.zero_grad()\n",
        "    loss.backward()\n",
        "    optimizer.step()\n",
        "    if i % 100 == 0:\n",
        "        print('i =', i, 'loss =', loss.item())\n",
        "        plt.imshow(x[0].permute(1, 2, 0).cpu().detach().numpy())\n",
        "        plt.show()"
      ]
    }
  ],
  "metadata": {
    "accelerator": "GPU",
    "colab": {
      "collapsed_sections": [],
      "name": "DIP.ipynb",
      "provenance": []
    },
    "kernelspec": {
      "display_name": "Python 3",
      "name": "python3"
    },
    "language_info": {
      "name": "python"
    }
  },
  "nbformat": 4,
  "nbformat_minor": 0
}